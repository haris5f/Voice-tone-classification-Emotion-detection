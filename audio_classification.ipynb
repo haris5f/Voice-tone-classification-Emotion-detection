{
 "cells": [
  {
   "cell_type": "markdown",
   "metadata": {},
   "source": [
    "# Audio tone classification. \n",
    "dataset link: https://zenodo.org/record/1188976#.YpvStOxBxPa"
   ]
  },
  {
   "cell_type": "code",
   "execution_count": 2,
   "metadata": {},
   "outputs": [],
   "source": [
    "from numpy import array\n",
    "from numpy import hstack\n",
    "import tensorflow\n",
    "from keras.models import Sequential\n",
    "from keras.layers import Dense\n",
    "from keras.layers import Flatten\n",
    "from keras.layers.convolutional import Conv1D\n",
    "from keras.layers.convolutional import MaxPooling1D\n",
    "from keras.layers import ReLU\n",
    "from keras.layers import LeakyReLU\n",
    "from keras.layers import Softmax\n",
    "from tensorflow import keras\n",
    "#from tensorflow.keras.optimizers import Adam\n",
    "import csv\n",
    "import matplotlib.pyplot as plt\n",
    "from keras.models import load_model\n",
    "from keras.models import load_model\n",
    "import numpy as np\n",
    "from tensorflow import keras\n",
    "import keras.optimizers\n",
    "#from utils.openmax import image_show, compute_activation, compute_openmax\n",
    "import librosa\n",
    "import soundfile\n",
    "import os, glob, pickle\n",
    "import numpy as np\n",
    "from sklearn.model_selection import train_test_split\n",
    "from sklearn.neural_network import MLPClassifier\n",
    "from sklearn.metrics import accuracy_score\n",
    "from sklearn.metrics import classification_report\n",
    "from sklearn.metrics import f1_score\n",
    "from sklearn.metrics import precision_score\n",
    "from IPython.display import Audio \n",
    "from sklearn.metrics import confusion_matrix\n",
    "#!pip install pydub\n",
    "#from pydub import AudioSegment\n",
    "import warnings\n",
    "warnings.filterwarnings(\"ignore\")"
   ]
  },
  {
   "cell_type": "code",
   "execution_count": 3,
   "metadata": {},
   "outputs": [],
   "source": [
    "#read all file paths\n",
    "path = 'audio_dataset'\n",
    "files = [os.path.join(dirpath, f) for dirpath, dirnames, file in os.walk(path) for f in file if f.endswith('.wav')]\n",
    "labels = [int(f.split('\\\\')[-1][6:8]) for f in files]\n",
    "\n",
    "    "
   ]
  },
  {
   "cell_type": "code",
   "execution_count": 4,
   "metadata": {},
   "outputs": [],
   "source": [
    "labels = [x-1 for x in labels]\n",
    "labels_dict ={0:'neutral',1:'calm',2:'happy',3:'sad',4:'angry',5:'fearful',6:'disgust',7:'surprised'}"
   ]
  },
  {
   "cell_type": "code",
   "execution_count": 35,
   "metadata": {},
   "outputs": [
    {
     "data": {
      "text/plain": [
       "{0, 1, 2, 3, 4, 5, 6, 7}"
      ]
     },
     "execution_count": 35,
     "metadata": {},
     "output_type": "execute_result"
    }
   ],
   "source": [
    "set(labels)"
   ]
  },
  {
   "cell_type": "markdown",
   "metadata": {},
   "source": [
    "# Generate data to avoid overfitting. one way to synthesize audio data is to add noise to the existing data. "
   ]
  },
  {
   "cell_type": "code",
   "execution_count": 6,
   "metadata": {},
   "outputs": [],
   "source": [
    "def noise(data,noise_factor=0.0005):\n",
    "    noise = np.random.randn(len(data))\n",
    "    data = data + noise_factor*noise\n",
    "    return data\n",
    "\n",
    "def shift(data):\n",
    "    shift_range = int(np.random.uniform(low=-5, high = 5)*1000)\n",
    "    return np.roll(data, shift_range)\n"
   ]
  },
  {
   "cell_type": "markdown",
   "metadata": {},
   "source": [
    "# Extract features from he audio files. These features will be out input for the neural network "
   ]
  },
  {
   "cell_type": "code",
   "execution_count": 16,
   "metadata": {},
   "outputs": [],
   "source": [
    "def extract_feature(x,sr):\n",
    "  # Code Here\n",
    "    X=[] # feature vector\n",
    "\n",
    "    #spectral_centroids = librosa.feature.spectral_centroid(x, sr=sr)\n",
    "    #for i in spectral_centroids:\n",
    "    #    X.extend([np.mean(i)])\n",
    "\n",
    "    mfccs = librosa.feature.mfcc(x, sr=sr)\n",
    "    for i in mfccs:\n",
    "        X.extend([np.mean(i)])\n",
    "\n",
    "    #chromagram = librosa.feature.chroma_stft(x, sr=sr)\n",
    "    #for i in chromagram:\n",
    "    #    X.extend([np.mean(i)])\n",
    "\n",
    "    #mel = librosa.feature.melspectrogram(x, sr=sr)\n",
    "    #for i in mel:\n",
    "    #    X.extend([np.mean(i)])  \n",
    "    return X"
   ]
  },
  {
   "cell_type": "code",
   "execution_count": 8,
   "metadata": {},
   "outputs": [
    {
     "name": "stdout",
     "output_type": "stream",
     "text": [
      "(1440, 20)\n"
     ]
    }
   ],
   "source": [
    "# extract all features(mel,chroma,spec_cen,mfcc) for train set\n",
    "X=[]\n",
    "for f in files:\n",
    "    x,sr = librosa.load(f,duration=3, offset=0.5, res_type='kaiser_fast')  # read audio file\n",
    "    x = extract_feature(x,sr)\n",
    "    X.append(x)\n",
    "X=np.array(X)\n",
    "print(X.shape)"
   ]
  },
  {
   "cell_type": "code",
   "execution_count": 9,
   "metadata": {},
   "outputs": [
    {
     "name": "stdout",
     "output_type": "stream",
     "text": [
      "(1440, 20)\n",
      "(2880, 20)\n",
      "(1440, 20)\n",
      "(4320, 20)\n"
     ]
    },
    {
     "data": {
      "text/plain": [
       "4320"
      ]
     },
     "execution_count": 9,
     "metadata": {},
     "output_type": "execute_result"
    }
   ],
   "source": [
    "\n",
    "\n",
    "# ---------\n",
    "X_noise = []\n",
    "for f in files:\n",
    "    x,sr = librosa.load(f,duration=3, offset=0.5, res_type='kaiser_fast')  # read audio file\n",
    "    x = noise(x)\n",
    "    x = extract_feature(x,sr)\n",
    "    X_noise.append(x)\n",
    "X_noise=np.array(X_noise)\n",
    "print(X_noise.shape)\n",
    "X = np.vstack((X, X_noise))\n",
    "print(X.shape)\n",
    "#-----------------------#\n",
    "X_shift = []\n",
    "\n",
    "for f in files:\n",
    "    x,sr = librosa.load(f,duration=3, offset=0.5, res_type='kaiser_fast')  # read audio file\n",
    "    x = shift(x)\n",
    "    x = extract_feature(x,sr)\n",
    "    X_shift.append(x)\n",
    "X_shift=np.array(X_shift)\n",
    "print(X_shift.shape)\n",
    "X = np.vstack((X, X_shift))\n",
    "print(X.shape)\n",
    "\n",
    "\n",
    "\n",
    "\n",
    "labels = labels+labels+labels\n",
    "len(labels)"
   ]
  },
  {
   "cell_type": "code",
   "execution_count": null,
   "metadata": {},
   "outputs": [],
   "source": []
  },
  {
   "cell_type": "code",
   "execution_count": null,
   "metadata": {},
   "outputs": [],
   "source": []
  },
  {
   "cell_type": "markdown",
   "metadata": {},
   "source": [
    "# Train test split for training, validation and testing"
   ]
  },
  {
   "cell_type": "code",
   "execution_count": 10,
   "metadata": {},
   "outputs": [],
   "source": [
    "X_train, X_test, y_train, y_test = train_test_split(X, labels, test_size=0.1, random_state=42)  \n",
    "X_train, X_val, y_train, y_val = train_test_split(X_train, y_train, test_size=0.1, random_state=42)  "
   ]
  },
  {
   "cell_type": "markdown",
   "metadata": {},
   "source": [
    "# Convert labels"
   ]
  },
  {
   "cell_type": "code",
   "execution_count": 11,
   "metadata": {},
   "outputs": [],
   "source": [
    "from keras.utils import np_utils\n",
    "import tensorflow.keras as keras\n",
    "num_classes = 8"
   ]
  },
  {
   "cell_type": "code",
   "execution_count": null,
   "metadata": {},
   "outputs": [],
   "source": []
  },
  {
   "cell_type": "code",
   "execution_count": 12,
   "metadata": {},
   "outputs": [],
   "source": [
    "y_train = keras.utils.to_categorical(y_train, num_classes)\n",
    "y_test = keras.utils.to_categorical(y_test, num_classes)\n",
    "y_val = keras.utils.to_categorical(y_val, num_classes)"
   ]
  },
  {
   "cell_type": "markdown",
   "metadata": {},
   "source": [
    "# ReduceLROnPlateau modifies learning rate along the learning proess to better learn the parameters"
   ]
  },
  {
   "cell_type": "code",
   "execution_count": 13,
   "metadata": {},
   "outputs": [],
   "source": [
    "from keras.callbacks import ReduceLROnPlateau\n",
    "rlrp = ReduceLROnPlateau(monitor='loss', factor=0.4, verbose=0, patience=4, min_lr=0.000001)"
   ]
  },
  {
   "cell_type": "markdown",
   "metadata": {},
   "source": [
    "# Normalise using StandardScaler"
   ]
  },
  {
   "cell_type": "code",
   "execution_count": 14,
   "metadata": {},
   "outputs": [],
   "source": [
    "# Normalisation\n",
    "from sklearn.preprocessing import StandardScaler\n",
    "sc = StandardScaler()\n",
    " \n",
    "train_x = sc.fit_transform(X_train)\n",
    "test_x = sc.transform(X_test)\n",
    "val_x = sc.transform(X_val)\n",
    "\n"
   ]
  },
  {
   "cell_type": "code",
   "execution_count": 15,
   "metadata": {},
   "outputs": [],
   "source": [
    "# save model for flask deployment\n",
    "import pickle\n",
    "pickle.dump(sc,open('sc.pkl','wb'))"
   ]
  },
  {
   "cell_type": "code",
   "execution_count": null,
   "metadata": {},
   "outputs": [],
   "source": []
  },
  {
   "cell_type": "markdown",
   "metadata": {},
   "source": [
    "# Create the model (cnn)\n"
   ]
  },
  {
   "cell_type": "code",
   "execution_count": 16,
   "metadata": {},
   "outputs": [
    {
     "name": "stdout",
     "output_type": "stream",
     "text": [
      "Model: \"sequential\"\n",
      "_________________________________________________________________\n",
      " Layer (type)                Output Shape              Param #   \n",
      "=================================================================\n",
      " conv1d (Conv1D)             (None, 20, 50)            200       \n",
      "                                                                 \n",
      " batch_normalization (BatchN  (None, 20, 50)           200       \n",
      " ormalization)                                                   \n",
      "                                                                 \n",
      " max_pooling1d (MaxPooling1D  (None, 10, 50)           0         \n",
      " )                                                               \n",
      "                                                                 \n",
      " conv1d_1 (Conv1D)           (None, 10, 50)            7550      \n",
      "                                                                 \n",
      " dropout (Dropout)           (None, 10, 50)            0         \n",
      "                                                                 \n",
      " batch_normalization_1 (Batc  (None, 10, 50)           200       \n",
      " hNormalization)                                                 \n",
      "                                                                 \n",
      " max_pooling1d_1 (MaxPooling  (None, 5, 50)            0         \n",
      " 1D)                                                             \n",
      "                                                                 \n",
      " conv1d_2 (Conv1D)           (None, 5, 25)             3775      \n",
      "                                                                 \n",
      " batch_normalization_2 (Batc  (None, 5, 25)            100       \n",
      " hNormalization)                                                 \n",
      "                                                                 \n",
      " max_pooling1d_2 (MaxPooling  (None, 3, 25)            0         \n",
      " 1D)                                                             \n",
      "                                                                 \n",
      " flatten (Flatten)           (None, 75)                0         \n",
      "                                                                 \n",
      " dense (Dense)               (None, 512)               38912     \n",
      "                                                                 \n",
      " dropout_1 (Dropout)         (None, 512)               0         \n",
      "                                                                 \n",
      " dense_1 (Dense)             (None, 8)                 4104      \n",
      "                                                                 \n",
      "=================================================================\n",
      "Total params: 55,041\n",
      "Trainable params: 54,791\n",
      "Non-trainable params: 250\n",
      "_________________________________________________________________\n"
     ]
    }
   ],
   "source": [
    "from tensorflow.keras.models import Sequential\n",
    "from tensorflow.keras.layers import (\n",
    "    Dense,\n",
    "    Conv1D,\n",
    "    MaxPool1D,\n",
    "    Flatten,\n",
    "    Dropout,\n",
    "    BatchNormalization,\n",
    ")\n",
    "\n",
    "model = Sequential()\n",
    "model.add(Conv1D(50, strides=1, padding=\"same\",  kernel_size=3,activation=\"relu\", \n",
    "                 input_shape=(20,1, )))\n",
    "model.add(BatchNormalization())\n",
    "model.add(MaxPool1D(2, strides=2, padding=\"same\"))\n",
    "model.add(Conv1D(50, kernel_size=3, strides=1, padding=\"same\", activation=\"relu\"))\n",
    "model.add(Dropout(0.2))\n",
    "model.add(BatchNormalization())\n",
    "model.add(MaxPool1D(2, strides=2, padding=\"same\"))\n",
    "model.add(Conv1D(25,  kernel_size=3, strides=1, padding=\"same\", activation=\"relu\"))\n",
    "model.add(BatchNormalization())\n",
    "model.add(MaxPool1D(2, strides=2, padding=\"same\"))\n",
    "model.add(Flatten())\n",
    "model.add(Dense(units=512, activation=\"relu\"))\n",
    "model.add(Dropout(0.3))\n",
    "model.add(Dense(units=num_classes, activation=\"softmax\"))\n",
    "model.summary()"
   ]
  },
  {
   "cell_type": "code",
   "execution_count": 17,
   "metadata": {},
   "outputs": [],
   "source": [
    "model.compile(loss=\"categorical_crossentropy\",optimizer='adam' ,metrics=[\"accuracy\"])"
   ]
  },
  {
   "cell_type": "code",
   "execution_count": null,
   "metadata": {},
   "outputs": [],
   "source": []
  },
  {
   "cell_type": "code",
   "execution_count": 18,
   "metadata": {},
   "outputs": [
    {
     "name": "stdout",
     "output_type": "stream",
     "text": [
      "Epoch 1/25\n",
      "110/110 [==============================] - 2s 9ms/step - loss: 1.8536 - accuracy: 0.2809 - val_loss: 2.0345 - val_accuracy: 0.1825 - lr: 0.0010\n",
      "Epoch 2/25\n",
      "110/110 [==============================] - 1s 6ms/step - loss: 1.5337 - accuracy: 0.4230 - val_loss: 1.8739 - val_accuracy: 0.2494 - lr: 0.0010\n",
      "Epoch 3/25\n",
      "110/110 [==============================] - 1s 6ms/step - loss: 1.3601 - accuracy: 0.4861 - val_loss: 1.5977 - val_accuracy: 0.3907 - lr: 0.0010\n",
      "Epoch 4/25\n",
      "110/110 [==============================] - 1s 6ms/step - loss: 1.2621 - accuracy: 0.5324 - val_loss: 1.3004 - val_accuracy: 0.5167 - lr: 0.0010\n",
      "Epoch 5/25\n",
      "110/110 [==============================] - 1s 6ms/step - loss: 1.1690 - accuracy: 0.5604 - val_loss: 1.0775 - val_accuracy: 0.6247 - lr: 0.0010\n",
      "Epoch 6/25\n",
      "110/110 [==============================] - 1s 6ms/step - loss: 1.0902 - accuracy: 0.5970 - val_loss: 0.9900 - val_accuracy: 0.6530 - lr: 0.0010\n",
      "Epoch 7/25\n",
      "110/110 [==============================] - 1s 6ms/step - loss: 1.0159 - accuracy: 0.6225 - val_loss: 0.8959 - val_accuracy: 0.6864 - lr: 0.0010\n",
      "Epoch 8/25\n",
      "110/110 [==============================] - 1s 8ms/step - loss: 0.9417 - accuracy: 0.6516 - val_loss: 0.8223 - val_accuracy: 0.7352 - lr: 0.0010\n",
      "Epoch 9/25\n",
      "110/110 [==============================] - 1s 8ms/step - loss: 0.9056 - accuracy: 0.6813 - val_loss: 0.7769 - val_accuracy: 0.7378 - lr: 0.0010\n",
      "Epoch 10/25\n",
      "110/110 [==============================] - 1s 8ms/step - loss: 0.8350 - accuracy: 0.7011 - val_loss: 0.8308 - val_accuracy: 0.7275 - lr: 0.0010\n",
      "Epoch 11/25\n",
      "110/110 [==============================] - 1s 8ms/step - loss: 0.7876 - accuracy: 0.7148 - val_loss: 0.7219 - val_accuracy: 0.7455 - lr: 0.0010\n",
      "Epoch 12/25\n",
      "110/110 [==============================] - 1s 8ms/step - loss: 0.7529 - accuracy: 0.7274 - val_loss: 0.6899 - val_accuracy: 0.7712 - lr: 0.0010\n",
      "Epoch 13/25\n",
      "110/110 [==============================] - 1s 8ms/step - loss: 0.6987 - accuracy: 0.7445 - val_loss: 0.6475 - val_accuracy: 0.7661 - lr: 0.0010\n",
      "Epoch 14/25\n",
      "110/110 [==============================] - 1s 7ms/step - loss: 0.6881 - accuracy: 0.7462 - val_loss: 0.6627 - val_accuracy: 0.7866 - lr: 0.0010\n",
      "Epoch 15/25\n",
      "110/110 [==============================] - 1s 7ms/step - loss: 0.6478 - accuracy: 0.7651 - val_loss: 0.5830 - val_accuracy: 0.7943 - lr: 0.0010\n",
      "Epoch 16/25\n",
      "110/110 [==============================] - 1s 7ms/step - loss: 0.6028 - accuracy: 0.7854 - val_loss: 0.5952 - val_accuracy: 0.8021 - lr: 0.0010\n",
      "Epoch 17/25\n",
      "110/110 [==============================] - 1s 7ms/step - loss: 0.5860 - accuracy: 0.7874 - val_loss: 0.5491 - val_accuracy: 0.8226 - lr: 0.0010\n",
      "Epoch 18/25\n",
      "110/110 [==============================] - 1s 8ms/step - loss: 0.5697 - accuracy: 0.7934 - val_loss: 0.5275 - val_accuracy: 0.8278 - lr: 0.0010\n",
      "Epoch 19/25\n",
      "110/110 [==============================] - 1s 8ms/step - loss: 0.5330 - accuracy: 0.8079 - val_loss: 0.5355 - val_accuracy: 0.8226 - lr: 0.0010\n",
      "Epoch 20/25\n",
      "110/110 [==============================] - 1s 9ms/step - loss: 0.5023 - accuracy: 0.8214 - val_loss: 0.5189 - val_accuracy: 0.8201 - lr: 0.0010\n",
      "Epoch 21/25\n",
      "110/110 [==============================] - 1s 8ms/step - loss: 0.5028 - accuracy: 0.8105 - val_loss: 0.4977 - val_accuracy: 0.8380 - lr: 0.0010\n",
      "Epoch 22/25\n",
      "110/110 [==============================] - 1s 7ms/step - loss: 0.4768 - accuracy: 0.8302 - val_loss: 0.4730 - val_accuracy: 0.8638 - lr: 0.0010\n",
      "Epoch 23/25\n",
      "110/110 [==============================] - 1s 6ms/step - loss: 0.4572 - accuracy: 0.8391 - val_loss: 0.4720 - val_accuracy: 0.8535 - lr: 0.0010\n",
      "Epoch 24/25\n",
      "110/110 [==============================] - 1s 6ms/step - loss: 0.4389 - accuracy: 0.8405 - val_loss: 0.4820 - val_accuracy: 0.8586 - lr: 0.0010\n",
      "Epoch 25/25\n",
      "110/110 [==============================] - 1s 7ms/step - loss: 0.4391 - accuracy: 0.8328 - val_loss: 0.4630 - val_accuracy: 0.8740 - lr: 0.0010\n"
     ]
    },
    {
     "data": {
      "text/plain": [
       "<keras.callbacks.History at 0x264c5e1ff70>"
      ]
     },
     "execution_count": 18,
     "metadata": {},
     "output_type": "execute_result"
    }
   ],
   "source": [
    "model.fit(train_x, y_train, epochs=25, verbose=1, validation_data=(val_x, y_val), callbacks=[rlrp])"
   ]
  },
  {
   "cell_type": "code",
   "execution_count": 19,
   "metadata": {},
   "outputs": [
    {
     "name": "stdout",
     "output_type": "stream",
     "text": [
      "14/14 [==============================] - 0s 3ms/step - loss: 0.6327 - accuracy: 0.7801\n"
     ]
    }
   ],
   "source": [
    "loss, accuracy = model.evaluate(test_x, y_test)"
   ]
  },
  {
   "cell_type": "code",
   "execution_count": 20,
   "metadata": {},
   "outputs": [
    {
     "name": "stdout",
     "output_type": "stream",
     "text": [
      "INFO:tensorflow:Assets written to: model_tone_classificatiom\\assets\n"
     ]
    }
   ],
   "source": [
    "model.save('model_tone_classificatiom')"
   ]
  },
  {
   "cell_type": "code",
   "execution_count": 21,
   "metadata": {},
   "outputs": [],
   "source": [
    "y_pred = model.predict(test_x)"
   ]
  },
  {
   "cell_type": "code",
   "execution_count": null,
   "metadata": {},
   "outputs": [],
   "source": []
  },
  {
   "cell_type": "code",
   "execution_count": null,
   "metadata": {},
   "outputs": [],
   "source": []
  },
  {
   "cell_type": "code",
   "execution_count": 22,
   "metadata": {},
   "outputs": [],
   "source": [
    "y_sk = np.argmax(y_test, axis=1)\n",
    "y_sk_p = np.argmax(y_pred, axis=1)"
   ]
  },
  {
   "cell_type": "code",
   "execution_count": null,
   "metadata": {},
   "outputs": [],
   "source": [
    "\n"
   ]
  },
  {
   "cell_type": "code",
   "execution_count": null,
   "metadata": {},
   "outputs": [],
   "source": []
  },
  {
   "cell_type": "code",
   "execution_count": 23,
   "metadata": {},
   "outputs": [
    {
     "name": "stdout",
     "output_type": "stream",
     "text": [
      "accuracy:  0.7800925925925926\n"
     ]
    }
   ],
   "source": [
    "print('accuracy: ',accuracy_score(y_sk, y_sk_p))\n",
    " "
   ]
  },
  {
   "cell_type": "code",
   "execution_count": 24,
   "metadata": {},
   "outputs": [
    {
     "name": "stdout",
     "output_type": "stream",
     "text": [
      "confusion matrix:\n",
      " [[16  4  0  1  0  0  1  0]\n",
      " [ 9 51  2  2  0  2  0  0]\n",
      " [ 3  2 47  2  0  2  1  2]\n",
      " [ 2  2  3 39  1  0  1  0]\n",
      " [ 1  1  4  1 46  0  0  1]\n",
      " [ 1  1  3  4  0 43  0  6]\n",
      " [ 1  0  1  4  4  1 39  3]\n",
      " [ 0  1  5  4  1  3  2 56]]\n"
     ]
    }
   ],
   "source": [
    "print('confusion matrix:\\n',confusion_matrix(y_sk, y_sk_p))"
   ]
  },
  {
   "cell_type": "code",
   "execution_count": 25,
   "metadata": {},
   "outputs": [
    {
     "data": {
      "image/png": "[encoded data removed]",
      "text/plain": [
       "<Figure size 864x720 with 2 Axes>"
      ]
     },
     "metadata": {
      "needs_background": "light"
     },
     "output_type": "display_data"
    }
   ],
   "source": [
    "import seaborn as sns\n",
    "plt.figure(figsize = (12, 10))\n",
    "ax= plt.subplot()\n",
    "cm = confusion_matrix(y_sk, y_sk_p)\n",
    "#plt.figure(figsize = (12, 10))\n",
    "sns.heatmap(cm, linecolor='white', cmap='Blues', linewidth=1, annot=True, fmt='')\n",
    "# labels, title and ticks\n",
    "ax.set_xlabel('Predicted labels');ax.set_ylabel('True labels'); \n",
    "ax.set_title('Confusion Matrix'); \n",
    "ax.xaxis.set_ticklabels(labels_dict.values()); ax.yaxis.set_ticklabels(labels_dict.values());"
   ]
  },
  {
   "cell_type": "code",
   "execution_count": null,
   "metadata": {},
   "outputs": [],
   "source": []
  },
  {
   "cell_type": "code",
   "execution_count": 26,
   "metadata": {},
   "outputs": [
    {
     "name": "stdout",
     "output_type": "stream",
     "text": [
      "              precision    recall  f1-score   support\n",
      "\n",
      "           0       0.48      0.73      0.58        22\n",
      "           1       0.82      0.77      0.80        66\n",
      "           2       0.72      0.80      0.76        59\n",
      "           3       0.68      0.81      0.74        48\n",
      "           4       0.88      0.85      0.87        54\n",
      "           5       0.84      0.74      0.79        58\n",
      "           6       0.89      0.74      0.80        53\n",
      "           7       0.82      0.78      0.80        72\n",
      "\n",
      "    accuracy                           0.78       432\n",
      "   macro avg       0.77      0.78      0.77       432\n",
      "weighted avg       0.79      0.78      0.78       432\n",
      "\n"
     ]
    }
   ],
   "source": [
    "print(classification_report(y_sk, y_sk_p))"
   ]
  },
  {
   "cell_type": "markdown",
   "metadata": {},
   "source": [
    "# Ignore below. Used for testing"
   ]
  },
  {
   "cell_type": "code",
   "execution_count": null,
   "metadata": {},
   "outputs": [],
   "source": [
    "!pip install sounddevice --user"
   ]
  },
  {
   "cell_type": "code",
   "execution_count": 1,
   "metadata": {},
   "outputs": [],
   "source": [
    "import sounddevice as sd\n",
    "from scipy.io.wavfile import write\n",
    "\n",
    "fs = 44100  # Sample rate\n",
    "seconds = 3  # Duration of recording\n",
    "\n",
    "myrecording = sd.rec(int(seconds * fs), samplerate=fs, channels=1)\n",
    "sd.wait()  # Wait until recording is finished\n",
    "write('output.wav', fs, myrecording)  # Save as WAV file"
   ]
  },
  {
   "cell_type": "code",
   "execution_count": 3,
   "metadata": {},
   "outputs": [],
   "source": [
    "import soundfile as sf\n",
    "data, fs = sf.read('output.wav', dtype='float32')  \n",
    "sd.play(data, fs)\n",
    "status = sd.wait()"
   ]
  },
  {
   "cell_type": "code",
   "execution_count": 29,
   "metadata": {},
   "outputs": [],
   "source": [
    "x_t,sr_t = librosa.load('output.wav',duration=3, offset=0, res_type='kaiser_fast')  # read audio file\n",
    "x_t = extract_feature(x_t,sr_t)\n",
    "x_t =np.array(x_t)"
   ]
  },
  {
   "cell_type": "code",
   "execution_count": 30,
   "metadata": {},
   "outputs": [],
   "source": [
    "x_t = sc.transform(x_t.reshape(1, -1))"
   ]
  },
  {
   "cell_type": "code",
   "execution_count": 31,
   "metadata": {},
   "outputs": [
    {
     "data": {
      "text/plain": [
       "'angry'"
      ]
     },
     "execution_count": 31,
     "metadata": {},
     "output_type": "execute_result"
    }
   ],
   "source": [
    "labels_dict.get(np.argmax(model.predict(x_t)))"
   ]
  },
  {
   "cell_type": "code",
   "execution_count": 444,
   "metadata": {},
   "outputs": [
    {
     "data": {
      "text/plain": [
       "dict_values(['neutral', 'calm', 'happy', 'sad', 'angry', 'fearful', 'disgust', 'surprised'])"
      ]
     },
     "execution_count": 444,
     "metadata": {},
     "output_type": "execute_result"
    }
   ],
   "source": [
    "labels_dict.values()"
   ]
  },
  {
   "cell_type": "code",
   "execution_count": null,
   "metadata": {},
   "outputs": [],
   "source": []
  },
  {
   "cell_type": "code",
   "execution_count": 37,
   "metadata": {},
   "outputs": [],
   "source": [
    "model = keras.models.load_model('model_sentiment')"
   ]
  },
  {
   "cell_type": "code",
   "execution_count": 4,
   "metadata": {},
   "outputs": [],
   "source": [
    "from scipy.io import wavfile\n",
    "samplerate, data = wavfile.read('output.wav')"
   ]
  },
  {
   "cell_type": "code",
   "execution_count": 5,
   "metadata": {},
   "outputs": [],
   "source": [
    "import librosa"
   ]
  },
  {
   "cell_type": "code",
   "execution_count": 11,
   "metadata": {},
   "outputs": [],
   "source": [
    "x_t,sr_t = librosa.load('output.wav')"
   ]
  },
  {
   "cell_type": "code",
   "execution_count": 9,
   "metadata": {},
   "outputs": [
    {
     "data": {
      "text/plain": [
       "array([ 0.0000000e+00,  0.0000000e+00, -3.0517578e-05, ...,\n",
       "       -1.3183594e-02, -1.1779785e-02, -9.7656250e-03], dtype=float32)"
      ]
     },
     "execution_count": 9,
     "metadata": {},
     "output_type": "execute_result"
    }
   ],
   "source": [
    "data"
   ]
  },
  {
   "cell_type": "code",
   "execution_count": 12,
   "metadata": {},
   "outputs": [
    {
     "data": {
      "text/plain": [
       "array([ 8.7598950e-05, -1.3553095e-04,  1.5723029e-04, ...,\n",
       "       -9.8034916e-03, -1.1260131e-02, -1.2469493e-02], dtype=float32)"
      ]
     },
     "execution_count": 12,
     "metadata": {},
     "output_type": "execute_result"
    }
   ],
   "source": [
    "x_t"
   ]
  },
  {
   "cell_type": "code",
   "execution_count": 13,
   "metadata": {},
   "outputs": [
    {
     "data": {
      "text/plain": [
       "22050"
      ]
     },
     "execution_count": 13,
     "metadata": {},
     "output_type": "execute_result"
    }
   ],
   "source": [
    "sr_t"
   ]
  },
  {
   "cell_type": "code",
   "execution_count": 14,
   "metadata": {},
   "outputs": [
    {
     "data": {
      "text/plain": [
       "44100"
      ]
     },
     "execution_count": 14,
     "metadata": {},
     "output_type": "execute_result"
    }
   ],
   "source": [
    "samplerate"
   ]
  },
  {
   "cell_type": "code",
   "execution_count": 19,
   "metadata": {},
   "outputs": [
    {
     "name": "stderr",
     "output_type": "stream",
     "text": [
      "<ipython-input-16-a486dfdabb6f>:9: FutureWarning: Pass y=[ 8.7598950e-05 -1.3553095e-04  1.5723029e-04 ... -9.8034916e-03\n",
      " -1.1260131e-02 -1.2469493e-02] as keyword args. From version 0.10 passing these as positional arguments will result in an error\n",
      "  mfccs = librosa.feature.mfcc(x, sr=sr)\n"
     ]
    },
    {
     "data": {
      "text/plain": [
       "[-345.23215,\n",
       " 83.722824,\n",
       " 5.748955,\n",
       " 24.598495,\n",
       " 14.039787,\n",
       " 7.680853,\n",
       " -2.8926346,\n",
       " 10.832621,\n",
       " -3.58919,\n",
       " 3.4017067,\n",
       " -3.6498013,\n",
       " 6.2617674,\n",
       " -2.4482684,\n",
       " 0.83874935,\n",
       " -0.07216997,\n",
       " 2.8990998,\n",
       " -0.9591049,\n",
       " 1.5652184,\n",
       " -1.2807028,\n",
       " 3.4452858]"
      ]
     },
     "execution_count": 19,
     "metadata": {},
     "output_type": "execute_result"
    }
   ],
   "source": [
    "extract_feature(x_t,sr_t)"
   ]
  },
  {
   "cell_type": "code",
   "execution_count": 18,
   "metadata": {},
   "outputs": [],
   "source": [
    "import numpy as np"
   ]
  },
  {
   "cell_type": "code",
   "execution_count": 20,
   "metadata": {},
   "outputs": [
    {
     "name": "stderr",
     "output_type": "stream",
     "text": [
      "<ipython-input-16-a486dfdabb6f>:9: FutureWarning: Pass y=[ 0.0000000e+00  0.0000000e+00 -3.0517578e-05 ... -1.3183594e-02\n",
      " -1.1779785e-02 -9.7656250e-03] as keyword args. From version 0.10 passing these as positional arguments will result in an error\n",
      "  mfccs = librosa.feature.mfcc(x, sr=sr)\n"
     ]
    },
    {
     "data": {
      "text/plain": [
       "[-371.99457,\n",
       " 94.94758,\n",
       " 9.173326,\n",
       " 19.765842,\n",
       " 13.811482,\n",
       " 16.773241,\n",
       " 2.2917209,\n",
       " 0.8397733,\n",
       " 5.062773,\n",
       " 4.2629657,\n",
       " -1.8597373,\n",
       " 1.066359,\n",
       " -1.6720636,\n",
       " 2.8035917,\n",
       " 0.9441455,\n",
       " -1.1549221,\n",
       " -1.5624036,\n",
       " 2.776723,\n",
       " -1.6407391,\n",
       " 1.640337]"
      ]
     },
     "execution_count": 20,
     "metadata": {},
     "output_type": "execute_result"
    }
   ],
   "source": [
    "extract_feature(data,samplerate)"
   ]
  },
  {
   "cell_type": "code",
   "execution_count": 29,
   "metadata": {},
   "outputs": [
    {
     "name": "stderr",
     "output_type": "stream",
     "text": [
      "WARNING:root:frame length (1103) is greater than FFT size (512), frame will be truncated. Increase NFFT to avoid.\n"
     ]
    },
    {
     "data": {
      "text/plain": [
       "0.010417579245709765"
      ]
     },
     "execution_count": 29,
     "metadata": {},
     "output_type": "execute_result"
    }
   ],
   "source": [
    "from python_speech_features import mfcc\n",
    "from python_speech_features import delta\n",
    "np.mean((delta(mfcc(data,samplerate),2)))"
   ]
  },
  {
   "cell_type": "code",
   "execution_count": 22,
   "metadata": {},
   "outputs": [
    {
     "name": "stdout",
     "output_type": "stream",
     "text": [
      "Collecting python_speech_features\n",
      "  Downloading python_speech_features-0.6.tar.gz (5.6 kB)\n",
      "  Preparing metadata (setup.py): started\n",
      "  Preparing metadata (setup.py): finished with status 'done'\n",
      "Building wheels for collected packages: python_speech_features\n",
      "  Building wheel for python_speech_features (setup.py): started\n",
      "  Building wheel for python_speech_features (setup.py): finished with status 'done'\n",
      "  Created wheel for python_speech_features: filename=python_speech_features-0.6-py3-none-any.whl size=5893 sha256=e0b7aa9760620bbb1da6880c251745d7ca27904c99d5d4da5faf84463a5fcf04\n",
      "  Stored in directory: c:\\users\\hp\\appdata\\local\\pip\\cache\\wheels\\5b\\60\\87\\28af2605138deac93d162904df42b6fdda1dab9b8757c62aa3\n",
      "Successfully built python_speech_features\n",
      "Installing collected packages: python_speech_features\n",
      "Successfully installed python_speech_features-0.6\n"
     ]
    }
   ],
   "source": [
    "!pip install python_speech_features"
   ]
  },
  {
   "cell_type": "code",
   "execution_count": null,
   "metadata": {},
   "outputs": [],
   "source": []
  }
 ],
 "metadata": {
  "kernelspec": {
   "display_name": "Python 3",
   "language": "python",
   "name": "python3"
  },
  "language_info": {
   "codemirror_mode": {
    "name": "ipython",
    "version": 3
   },
   "file_extension": ".py",
   "mimetype": "text/x-python",
   "name": "python",
   "nbconvert_exporter": "python",
   "pygments_lexer": "ipython3",
   "version": "3.8.5"
  }
 },
 "nbformat": 4,
 "nbformat_minor": 4
}
